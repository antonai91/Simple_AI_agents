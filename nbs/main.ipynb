{
 "cells": [
  {
   "cell_type": "code",
   "execution_count": 1,
   "id": "e0261ec0",
   "metadata": {},
   "outputs": [],
   "source": [
    "import pandas as pd\n",
    "import requests\n",
    "import openai\n",
    "import os\n",
    "import sys\n",
    "import plotly.express as px\n",
    "import json\n",
    "from typing import List\n",
    "from pydantic import BaseModel, Field\n",
    "sys.path.append(\"../\")\n",
    "from dotenv import load_dotenv\n",
    "from finance_functions import STOCK, get_ticker"
   ]
  },
  {
   "cell_type": "code",
   "execution_count": 2,
   "id": "77fe883f",
   "metadata": {},
   "outputs": [],
   "source": [
    "# Load the environment variables from .env file\n",
    "load_dotenv()\n",
    "openai.api_key = os.environ['OPENAI_API_KEY']"
   ]
  },
  {
   "cell_type": "code",
   "execution_count": 3,
   "id": "9891a6a0",
   "metadata": {},
   "outputs": [],
   "source": [
    "from langchain.prompts import ChatPromptTemplate\n",
    "from langchain_openai import ChatOpenAI\n",
    "from langchain.schema.output_parser import StrOutputParser"
   ]
  },
  {
   "cell_type": "code",
   "execution_count": 4,
   "id": "b481ebc3",
   "metadata": {},
   "outputs": [
    {
     "name": "stdout",
     "output_type": "stream",
     "text": [
      "0.3.24\n"
     ]
    }
   ],
   "source": [
    "import langchain\n",
    "print(langchain.__version__)"
   ]
  },
  {
   "cell_type": "code",
   "execution_count": 5,
   "id": "46da3d23",
   "metadata": {},
   "outputs": [],
   "source": [
    "prompt = ChatPromptTemplate.from_template(\n",
    "    \"tell me a short joke about {topic}\"\n",
    ")\n",
    "model = ChatOpenAI(model=\"gpt-4.1-nano-2025-04-14\")\n",
    "output_parser = StrOutputParser()"
   ]
  },
  {
   "cell_type": "code",
   "execution_count": 6,
   "id": "3800cee0",
   "metadata": {},
   "outputs": [],
   "source": [
    "chain = prompt | model | output_parser"
   ]
  },
  {
   "cell_type": "code",
   "execution_count": 7,
   "id": "9f604dd0",
   "metadata": {},
   "outputs": [
    {
     "data": {
      "text/plain": [
       "'Why do bears have sticky paws?  \\nBecause they always get into bear-ly any trouble!'"
      ]
     },
     "execution_count": 7,
     "metadata": {},
     "output_type": "execute_result"
    }
   ],
   "source": [
    "chain.invoke({\"topic\": \"bears\"})"
   ]
  },
  {
   "cell_type": "code",
   "execution_count": 8,
   "id": "c5fb6bd9",
   "metadata": {},
   "outputs": [],
   "source": [
    "from langchain_core.utils.function_calling import convert_to_openai_function"
   ]
  },
  {
   "cell_type": "code",
   "execution_count": 9,
   "id": "9eecb94c",
   "metadata": {},
   "outputs": [],
   "source": [
    "class GetTicker(BaseModel):\n",
    "    \"\"\"Call this with a company name to get the ticker on yahoo finance\"\"\"\n",
    "    company_name: str = Field(description=\"Company name\")"
   ]
  },
  {
   "cell_type": "code",
   "execution_count": 10,
   "id": "b88a47b0",
   "metadata": {},
   "outputs": [],
   "source": [
    "get_ticker_function = convert_to_openai_function(GetTicker) # type: ignore"
   ]
  },
  {
   "cell_type": "code",
   "execution_count": 11,
   "id": "a2c1890d",
   "metadata": {},
   "outputs": [
    {
     "data": {
      "text/plain": [
       "{'name': 'GetTicker',\n",
       " 'description': 'Call this with a company name to get the ticker on yahoo finance',\n",
       " 'parameters': {'properties': {'company_name': {'description': 'Company name',\n",
       "    'type': 'string'}},\n",
       "  'required': ['company_name'],\n",
       "  'type': 'object'}}"
      ]
     },
     "execution_count": 11,
     "metadata": {},
     "output_type": "execute_result"
    }
   ],
   "source": [
    "get_ticker_function"
   ]
  },
  {
   "cell_type": "code",
   "execution_count": 12,
   "id": "7b091f32",
   "metadata": {},
   "outputs": [],
   "source": [
    "model_with_function = model.bind(functions=[get_ticker_function])"
   ]
  },
  {
   "cell_type": "code",
   "execution_count": 13,
   "id": "b21f4755",
   "metadata": {},
   "outputs": [
    {
     "data": {
      "text/plain": [
       "AIMessage(content='', additional_kwargs={'function_call': {'arguments': '{\"company_name\":\"Unicredit\"}', 'name': 'GetTicker'}, 'refusal': None}, response_metadata={'token_usage': {'completion_tokens': 18, 'prompt_tokens': 65, 'total_tokens': 83, 'completion_tokens_details': {'accepted_prediction_tokens': 0, 'audio_tokens': 0, 'reasoning_tokens': 0, 'rejected_prediction_tokens': 0}, 'prompt_tokens_details': {'audio_tokens': 0, 'cached_tokens': 0}}, 'model_name': 'gpt-4.1-nano-2025-04-14', 'system_fingerprint': 'fp_eede8f0d45', 'id': 'chatcmpl-BQVCL4iHp8IADXFYeSC2ah09i3pxC', 'finish_reason': 'function_call', 'logprobs': None}, id='run-e3a9eef0-cdfe-4ca0-9822-c50c78048829-0', usage_metadata={'input_tokens': 65, 'output_tokens': 18, 'total_tokens': 83, 'input_token_details': {'audio': 0, 'cache_read': 0}, 'output_token_details': {'audio': 0, 'reasoning': 0}})"
      ]
     },
     "execution_count": 13,
     "metadata": {},
     "output_type": "execute_result"
    }
   ],
   "source": [
    "model_with_function.invoke(\"What is the ticker for Unicredit?\")"
   ]
  },
  {
   "cell_type": "code",
   "execution_count": 14,
   "id": "7ebe9001",
   "metadata": {},
   "outputs": [],
   "source": [
    "prompt = ChatPromptTemplate.from_messages([\n",
    "    (\"system\", \"You are a helpful assistant\"),\n",
    "    (\"user\", \"{input}\")\n",
    "])\n",
    "\n",
    "chain = prompt | model_with_function"
   ]
  },
  {
   "cell_type": "code",
   "execution_count": 15,
   "id": "f12169ea",
   "metadata": {},
   "outputs": [
    {
     "data": {
      "text/plain": [
       "AIMessage(content='', additional_kwargs={'function_call': {'arguments': '{\"company_name\":\"Unicredit\"}', 'name': 'GetTicker'}, 'refusal': None}, response_metadata={'token_usage': {'completion_tokens': 18, 'prompt_tokens': 71, 'total_tokens': 89, 'completion_tokens_details': {'accepted_prediction_tokens': 0, 'audio_tokens': 0, 'reasoning_tokens': 0, 'rejected_prediction_tokens': 0}, 'prompt_tokens_details': {'audio_tokens': 0, 'cached_tokens': 0}}, 'model_name': 'gpt-4.1-nano-2025-04-14', 'system_fingerprint': 'fp_eede8f0d45', 'id': 'chatcmpl-BQVCMxdv5QErh9aplKBXXl7TuHlc0', 'finish_reason': 'function_call', 'logprobs': None}, id='run-c8ee3326-ace9-4a8c-8e80-08dcb2186b2e-0', usage_metadata={'input_tokens': 71, 'output_tokens': 18, 'total_tokens': 89, 'input_token_details': {'audio': 0, 'cache_read': 0}, 'output_token_details': {'audio': 0, 'reasoning': 0}})"
      ]
     },
     "execution_count": 15,
     "metadata": {},
     "output_type": "execute_result"
    }
   ],
   "source": [
    "chain.invoke({\"input\": \"What is the ticker for Unicredit?\"})"
   ]
  },
  {
   "cell_type": "code",
   "execution_count": 20,
   "id": "730f0971",
   "metadata": {},
   "outputs": [],
   "source": [
    "chain = prompt | model_with_function"
   ]
  },
  {
   "cell_type": "code",
   "execution_count": 22,
   "id": "605920d8",
   "metadata": {},
   "outputs": [],
   "source": [
    "res = chain.invoke({\"input\": \"What is the ticker for Unicredit?\"})"
   ]
  },
  {
   "cell_type": "code",
   "execution_count": 27,
   "id": "0b7a461e",
   "metadata": {},
   "outputs": [
    {
     "data": {
      "text/plain": [
       "{'function_call': {'arguments': '{\"company_name\":\"Unicredit\"}',\n",
       "  'name': 'GetTicker'},\n",
       " 'refusal': None}"
      ]
     },
     "execution_count": 27,
     "metadata": {},
     "output_type": "execute_result"
    }
   ],
   "source": [
    "res.additional_kwargs"
   ]
  },
  {
   "cell_type": "code",
   "execution_count": 30,
   "id": "ecbabae3",
   "metadata": {},
   "outputs": [],
   "source": [
    "from langchain.output_parsers.openai_functions import PydanticOutputFunctionsParser\n",
    "parser = PydanticOutputFunctionsParser(pydantic_schema=GetTicker)"
   ]
  },
  {
   "cell_type": "code",
   "execution_count": 31,
   "id": "050180ea",
   "metadata": {},
   "outputs": [],
   "source": [
    "chain = prompt | model_with_function | parser"
   ]
  },
  {
   "cell_type": "code",
   "execution_count": 36,
   "id": "3b5b615e",
   "metadata": {},
   "outputs": [],
   "source": [
    "res = chain.invoke({\"input\": \"What is the ticker for Unicredit?\"})"
   ]
  },
  {
   "cell_type": "code",
   "execution_count": 37,
   "id": "6365034d",
   "metadata": {},
   "outputs": [
    {
     "data": {
      "text/plain": [
       "GetTicker(company_name='Unicredit')"
      ]
     },
     "execution_count": 37,
     "metadata": {},
     "output_type": "execute_result"
    }
   ],
   "source": [
    "res"
   ]
  },
  {
   "cell_type": "code",
   "execution_count": 38,
   "id": "710fcf4b",
   "metadata": {},
   "outputs": [],
   "source": [
    "from langchain_core.tools import tool"
   ]
  },
  {
   "cell_type": "code",
   "execution_count": 82,
   "id": "2b294a08",
   "metadata": {},
   "outputs": [],
   "source": [
    "@tool\n",
    "def get_ticker(company_name: str) -> str:\n",
    "    \"\"\"\n",
    "    Get the ticker based on the company name\n",
    "    Parameters:\n",
    "    company_name: str\n",
    "        Free text\n",
    "    \"\"\"\n",
    "    yfinance_url = \"https://query2.finance.yahoo.com/v1/finance/search\"\n",
    "    user_agent = 'Mozilla/5.0 (Windows NT 10.0; Win64; x64) AppleWebKit/537.36 (KHTML, like Gecko) Chrome/108.0.0.0 Safari/537.36'\n",
    "    params = {\"q\": company_name, \"quotes_count\": 1, \"country\": \"United States\"}\n",
    "\n",
    "    res = requests.get(url=yfinance_url, params=params, headers={'User-Agent': user_agent})\n",
    "    data = res.json()\n",
    "\n",
    "    company_code = data['quotes'][0]['symbol']\n",
    "    return company_code"
   ]
  },
  {
   "cell_type": "code",
   "execution_count": 74,
   "id": "b273f56b",
   "metadata": {},
   "outputs": [
    {
     "data": {
      "text/plain": [
       "'UCG.MI'"
      ]
     },
     "execution_count": 74,
     "metadata": {},
     "output_type": "execute_result"
    }
   ],
   "source": [
    "get_ticker.invoke(\"Unicredit\")"
   ]
  },
  {
   "cell_type": "code",
   "execution_count": 75,
   "id": "7ac01637",
   "metadata": {},
   "outputs": [],
   "source": [
    "model_with_tools = model.bind(tools=[get_ticker])"
   ]
  },
  {
   "cell_type": "code",
   "execution_count": 76,
   "id": "5dff77ef",
   "metadata": {},
   "outputs": [],
   "source": [
    "chain = prompt | model_with_tools"
   ]
  },
  {
   "cell_type": "code",
   "execution_count": 77,
   "id": "e2853942",
   "metadata": {},
   "outputs": [],
   "source": [
    "from langchain_core.messages import HumanMessage"
   ]
  },
  {
   "cell_type": "code",
   "execution_count": 78,
   "id": "15c4848a",
   "metadata": {},
   "outputs": [],
   "source": [
    "query = \"What is the ticker for Unicredit?\"\n",
    "\n",
    "messages = [HumanMessage(query)]"
   ]
  },
  {
   "cell_type": "code",
   "execution_count": 84,
   "id": "142a8302",
   "metadata": {},
   "outputs": [],
   "source": [
    "from langchain.chat_models import init_chat_model\n",
    "\n",
    "llm = init_chat_model(\"gpt-4.1-nano-2025-04-14\", model_provider=\"openai\")"
   ]
  },
  {
   "cell_type": "code",
   "execution_count": 85,
   "id": "c80932de",
   "metadata": {},
   "outputs": [],
   "source": [
    "tools = [get_ticker]"
   ]
  },
  {
   "cell_type": "code",
   "execution_count": 86,
   "id": "e03edc8e",
   "metadata": {},
   "outputs": [],
   "source": [
    "llm_with_tools = llm.bind_tools(tools)"
   ]
  },
  {
   "cell_type": "code",
   "execution_count": 87,
   "id": "b6c28415",
   "metadata": {},
   "outputs": [],
   "source": [
    "ai_msg = llm_with_tools.invoke(messages)"
   ]
  },
  {
   "cell_type": "code",
   "execution_count": 88,
   "id": "b05b9aaf",
   "metadata": {},
   "outputs": [
    {
     "name": "stdout",
     "output_type": "stream",
     "text": [
      "[{'name': 'get_ticker', 'args': {'company_name': 'Unicredit'}, 'id': 'call_4HOoxDdo0RVDWOKFJW6Fugzu', 'type': 'tool_call'}]\n"
     ]
    }
   ],
   "source": [
    "print(ai_msg.tool_calls)\n",
    "\n",
    "messages.append(ai_msg)"
   ]
  },
  {
   "cell_type": "code",
   "execution_count": 89,
   "id": "2bebbce1",
   "metadata": {},
   "outputs": [
    {
     "data": {
      "text/plain": [
       "[HumanMessage(content='What is the ticker for Unicredit?', additional_kwargs={}, response_metadata={}),\n",
       " AIMessage(content='', additional_kwargs={'tool_calls': [{'id': 'call_4HOoxDdo0RVDWOKFJW6Fugzu', 'function': {'arguments': '{\"company_name\":\"Unicredit\"}', 'name': 'get_ticker'}, 'type': 'function'}], 'refusal': None}, response_metadata={'token_usage': {'completion_tokens': 19, 'prompt_tokens': 69, 'total_tokens': 88, 'completion_tokens_details': {'accepted_prediction_tokens': 0, 'audio_tokens': 0, 'reasoning_tokens': 0, 'rejected_prediction_tokens': 0}, 'prompt_tokens_details': {'audio_tokens': 0, 'cached_tokens': 0}}, 'model_name': 'gpt-4.1-nano-2025-04-14', 'system_fingerprint': 'fp_eede8f0d45', 'id': 'chatcmpl-BQWLQ7AtG8sVvD6pIh8OX3q47JlGG', 'finish_reason': 'tool_calls', 'logprobs': None}, id='run-020e6ebc-c016-42e1-8990-7c0d2da7968e-0', tool_calls=[{'name': 'get_ticker', 'args': {'company_name': 'Unicredit'}, 'id': 'call_4HOoxDdo0RVDWOKFJW6Fugzu', 'type': 'tool_call'}], usage_metadata={'input_tokens': 69, 'output_tokens': 19, 'total_tokens': 88, 'input_token_details': {'audio': 0, 'cache_read': 0}, 'output_token_details': {'audio': 0, 'reasoning': 0}})]"
      ]
     },
     "execution_count": 89,
     "metadata": {},
     "output_type": "execute_result"
    }
   ],
   "source": [
    "messages"
   ]
  },
  {
   "cell_type": "code",
   "execution_count": 90,
   "id": "14628178",
   "metadata": {},
   "outputs": [
    {
     "data": {
      "text/plain": [
       "[HumanMessage(content='What is the ticker for Unicredit?', additional_kwargs={}, response_metadata={}),\n",
       " AIMessage(content='', additional_kwargs={'tool_calls': [{'id': 'call_4HOoxDdo0RVDWOKFJW6Fugzu', 'function': {'arguments': '{\"company_name\":\"Unicredit\"}', 'name': 'get_ticker'}, 'type': 'function'}], 'refusal': None}, response_metadata={'token_usage': {'completion_tokens': 19, 'prompt_tokens': 69, 'total_tokens': 88, 'completion_tokens_details': {'accepted_prediction_tokens': 0, 'audio_tokens': 0, 'reasoning_tokens': 0, 'rejected_prediction_tokens': 0}, 'prompt_tokens_details': {'audio_tokens': 0, 'cached_tokens': 0}}, 'model_name': 'gpt-4.1-nano-2025-04-14', 'system_fingerprint': 'fp_eede8f0d45', 'id': 'chatcmpl-BQWLQ7AtG8sVvD6pIh8OX3q47JlGG', 'finish_reason': 'tool_calls', 'logprobs': None}, id='run-020e6ebc-c016-42e1-8990-7c0d2da7968e-0', tool_calls=[{'name': 'get_ticker', 'args': {'company_name': 'Unicredit'}, 'id': 'call_4HOoxDdo0RVDWOKFJW6Fugzu', 'type': 'tool_call'}], usage_metadata={'input_tokens': 69, 'output_tokens': 19, 'total_tokens': 88, 'input_token_details': {'audio': 0, 'cache_read': 0}, 'output_token_details': {'audio': 0, 'reasoning': 0}}),\n",
       " ToolMessage(content='UCG.MI', name='get_ticker', tool_call_id='call_4HOoxDdo0RVDWOKFJW6Fugzu')]"
      ]
     },
     "execution_count": 90,
     "metadata": {},
     "output_type": "execute_result"
    }
   ],
   "source": [
    "for tool_call in ai_msg.tool_calls:\n",
    "    selected_tool = {\"get_ticker\": get_ticker}[tool_call[\"name\"].lower()]\n",
    "    tool_msg = selected_tool.invoke(tool_call)\n",
    "    messages.append(tool_msg)\n",
    "\n",
    "messages"
   ]
  },
  {
   "cell_type": "code",
   "execution_count": null,
   "id": "361221c2",
   "metadata": {},
   "outputs": [],
   "source": []
  }
 ],
 "metadata": {
  "kernelspec": {
   "display_name": ".venv",
   "language": "python",
   "name": "python3"
  },
  "language_info": {
   "codemirror_mode": {
    "name": "ipython",
    "version": 3
   },
   "file_extension": ".py",
   "mimetype": "text/x-python",
   "name": "python",
   "nbconvert_exporter": "python",
   "pygments_lexer": "ipython3",
   "version": "3.12.1"
  }
 },
 "nbformat": 4,
 "nbformat_minor": 5
}
