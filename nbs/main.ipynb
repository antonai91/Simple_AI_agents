{
 "cells": [
  {
   "cell_type": "code",
   "execution_count": 1,
   "id": "e0261ec0",
   "metadata": {},
   "outputs": [],
   "source": [
    "import pandas as pd\n",
    "import requests\n",
    "import openai\n",
    "import os\n",
    "import sys\n",
    "import plotly.express as px\n",
    "import json\n",
    "from typing import List\n",
    "from pydantic import BaseModel, Field\n",
    "sys.path.append(\"../\")\n",
    "from dotenv import load_dotenv\n",
    "from finance_functions import STOCK, get_ticker"
   ]
  },
  {
   "cell_type": "code",
   "execution_count": 2,
   "id": "77fe883f",
   "metadata": {},
   "outputs": [],
   "source": [
    "# Load the environment variables from .env file\n",
    "load_dotenv()\n",
    "openai.api_key = os.environ['OPENAI_API_KEY']"
   ]
  },
  {
   "cell_type": "code",
   "execution_count": 3,
   "id": "9891a6a0",
   "metadata": {},
   "outputs": [],
   "source": [
    "from langchain.prompts import ChatPromptTemplate\n",
    "from langchain_openai import ChatOpenAI\n",
    "from langchain.schema.output_parser import StrOutputParser"
   ]
  },
  {
   "cell_type": "code",
   "execution_count": 4,
   "id": "b481ebc3",
   "metadata": {},
   "outputs": [
    {
     "name": "stdout",
     "output_type": "stream",
     "text": [
      "0.3.24\n"
     ]
    }
   ],
   "source": [
    "import langchain\n",
    "print(langchain.__version__)"
   ]
  },
  {
   "cell_type": "code",
   "execution_count": 5,
   "id": "710fcf4b",
   "metadata": {},
   "outputs": [],
   "source": [
    "from langchain_core.tools import tool"
   ]
  },
  {
   "cell_type": "code",
   "execution_count": 6,
   "id": "b273f56b",
   "metadata": {},
   "outputs": [
    {
     "data": {
      "text/plain": [
       "'UCG.MI'"
      ]
     },
     "execution_count": 6,
     "metadata": {},
     "output_type": "execute_result"
    }
   ],
   "source": [
    "get_ticker.invoke(\"Unicredit\")"
   ]
  },
  {
   "cell_type": "code",
   "execution_count": 8,
   "id": "e2853942",
   "metadata": {},
   "outputs": [],
   "source": [
    "from langchain_core.messages import HumanMessage"
   ]
  },
  {
   "cell_type": "code",
   "execution_count": 9,
   "id": "15c4848a",
   "metadata": {},
   "outputs": [],
   "source": [
    "query = \"What is the ticker for Unicredit?\"\n",
    "\n",
    "messages = [HumanMessage(query)]"
   ]
  },
  {
   "cell_type": "code",
   "execution_count": 10,
   "id": "142a8302",
   "metadata": {},
   "outputs": [],
   "source": [
    "from langchain.chat_models import init_chat_model\n",
    "\n",
    "llm = init_chat_model(\"gpt-4.1-nano-2025-04-14\", model_provider=\"openai\")"
   ]
  },
  {
   "cell_type": "code",
   "execution_count": 11,
   "id": "c80932de",
   "metadata": {},
   "outputs": [],
   "source": [
    "tools = [get_ticker]"
   ]
  },
  {
   "cell_type": "code",
   "execution_count": 12,
   "id": "e03edc8e",
   "metadata": {},
   "outputs": [],
   "source": [
    "llm_with_tools = llm.bind_tools(tools)"
   ]
  },
  {
   "cell_type": "code",
   "execution_count": 13,
   "id": "b6c28415",
   "metadata": {},
   "outputs": [],
   "source": [
    "ai_msg = llm_with_tools.invoke(messages)"
   ]
  },
  {
   "cell_type": "code",
   "execution_count": 14,
   "id": "b05b9aaf",
   "metadata": {},
   "outputs": [
    {
     "name": "stdout",
     "output_type": "stream",
     "text": [
      "[{'name': 'get_ticker', 'args': {'company_name': 'Unicredit'}, 'id': 'call_w4IJpr0ccMZG0gMFh9eB2H5K', 'type': 'tool_call'}]\n"
     ]
    }
   ],
   "source": [
    "print(ai_msg.tool_calls)\n",
    "\n",
    "messages.append(ai_msg)"
   ]
  },
  {
   "cell_type": "code",
   "execution_count": 15,
   "id": "2bebbce1",
   "metadata": {},
   "outputs": [
    {
     "data": {
      "text/plain": [
       "[HumanMessage(content='What is the ticker for Unicredit?', additional_kwargs={}, response_metadata={}),\n",
       " AIMessage(content='', additional_kwargs={'tool_calls': [{'id': 'call_w4IJpr0ccMZG0gMFh9eB2H5K', 'function': {'arguments': '{\"company_name\":\"Unicredit\"}', 'name': 'get_ticker'}, 'type': 'function'}], 'refusal': None}, response_metadata={'token_usage': {'completion_tokens': 19, 'prompt_tokens': 69, 'total_tokens': 88, 'completion_tokens_details': {'accepted_prediction_tokens': 0, 'audio_tokens': 0, 'reasoning_tokens': 0, 'rejected_prediction_tokens': 0}, 'prompt_tokens_details': {'audio_tokens': 0, 'cached_tokens': 0}}, 'model_name': 'gpt-4.1-nano-2025-04-14', 'system_fingerprint': 'fp_eede8f0d45', 'id': 'chatcmpl-BQZ2U1IhysQUI5SCf7rHSSPh17rls', 'finish_reason': 'tool_calls', 'logprobs': None}, id='run-f19a6811-b416-4a82-975a-dcc8b52f5d76-0', tool_calls=[{'name': 'get_ticker', 'args': {'company_name': 'Unicredit'}, 'id': 'call_w4IJpr0ccMZG0gMFh9eB2H5K', 'type': 'tool_call'}], usage_metadata={'input_tokens': 69, 'output_tokens': 19, 'total_tokens': 88, 'input_token_details': {'audio': 0, 'cache_read': 0}, 'output_token_details': {'audio': 0, 'reasoning': 0}})]"
      ]
     },
     "execution_count": 15,
     "metadata": {},
     "output_type": "execute_result"
    }
   ],
   "source": [
    "messages"
   ]
  },
  {
   "cell_type": "code",
   "execution_count": 16,
   "id": "14628178",
   "metadata": {},
   "outputs": [
    {
     "data": {
      "text/plain": [
       "[HumanMessage(content='What is the ticker for Unicredit?', additional_kwargs={}, response_metadata={}),\n",
       " AIMessage(content='', additional_kwargs={'tool_calls': [{'id': 'call_w4IJpr0ccMZG0gMFh9eB2H5K', 'function': {'arguments': '{\"company_name\":\"Unicredit\"}', 'name': 'get_ticker'}, 'type': 'function'}], 'refusal': None}, response_metadata={'token_usage': {'completion_tokens': 19, 'prompt_tokens': 69, 'total_tokens': 88, 'completion_tokens_details': {'accepted_prediction_tokens': 0, 'audio_tokens': 0, 'reasoning_tokens': 0, 'rejected_prediction_tokens': 0}, 'prompt_tokens_details': {'audio_tokens': 0, 'cached_tokens': 0}}, 'model_name': 'gpt-4.1-nano-2025-04-14', 'system_fingerprint': 'fp_eede8f0d45', 'id': 'chatcmpl-BQZ2U1IhysQUI5SCf7rHSSPh17rls', 'finish_reason': 'tool_calls', 'logprobs': None}, id='run-f19a6811-b416-4a82-975a-dcc8b52f5d76-0', tool_calls=[{'name': 'get_ticker', 'args': {'company_name': 'Unicredit'}, 'id': 'call_w4IJpr0ccMZG0gMFh9eB2H5K', 'type': 'tool_call'}], usage_metadata={'input_tokens': 69, 'output_tokens': 19, 'total_tokens': 88, 'input_token_details': {'audio': 0, 'cache_read': 0}, 'output_token_details': {'audio': 0, 'reasoning': 0}}),\n",
       " ToolMessage(content='UCG.MI', name='get_ticker', tool_call_id='call_w4IJpr0ccMZG0gMFh9eB2H5K')]"
      ]
     },
     "execution_count": 16,
     "metadata": {},
     "output_type": "execute_result"
    }
   ],
   "source": [
    "for tool_call in ai_msg.tool_calls:\n",
    "    selected_tool = {\"get_ticker\": get_ticker}[tool_call[\"name\"].lower()]\n",
    "    tool_msg = selected_tool.invoke(tool_call)\n",
    "    messages.append(tool_msg)\n",
    "\n",
    "messages"
   ]
  },
  {
   "cell_type": "code",
   "execution_count": null,
   "id": "361221c2",
   "metadata": {},
   "outputs": [],
   "source": []
  }
 ],
 "metadata": {
  "kernelspec": {
   "display_name": ".venv",
   "language": "python",
   "name": "python3"
  },
  "language_info": {
   "codemirror_mode": {
    "name": "ipython",
    "version": 3
   },
   "file_extension": ".py",
   "mimetype": "text/x-python",
   "name": "python",
   "nbconvert_exporter": "python",
   "pygments_lexer": "ipython3",
   "version": "3.12.1"
  }
 },
 "nbformat": 4,
 "nbformat_minor": 5
}
