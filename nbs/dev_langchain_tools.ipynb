{
 "cells": [
  {
   "cell_type": "code",
   "execution_count": 1,
   "id": "e0261ec0",
   "metadata": {},
   "outputs": [],
   "source": [
    "import pandas as pd\n",
    "import requests\n",
    "import openai\n",
    "import os\n",
    "import sys\n",
    "import plotly.express as px\n",
    "import json\n",
    "from typing import List\n",
    "from pydantic import BaseModel, Field\n",
    "sys.path.append(\"../\")\n",
    "from dotenv import load_dotenv\n",
    "from finance_functions import *"
   ]
  },
  {
   "cell_type": "code",
   "execution_count": 2,
   "id": "77fe883f",
   "metadata": {},
   "outputs": [],
   "source": [
    "# Load the environment variables from .env file\n",
    "load_dotenv()\n",
    "openai.api_key = os.environ['OPENAI_API_KEY']"
   ]
  },
  {
   "cell_type": "code",
   "execution_count": 3,
   "id": "9891a6a0",
   "metadata": {},
   "outputs": [],
   "source": [
    "from langchain.prompts import ChatPromptTemplate\n",
    "from langchain_openai import ChatOpenAI\n",
    "from langchain.schema.output_parser import StrOutputParser"
   ]
  },
  {
   "cell_type": "code",
   "execution_count": 4,
   "id": "b481ebc3",
   "metadata": {},
   "outputs": [
    {
     "name": "stdout",
     "output_type": "stream",
     "text": [
      "0.3.24\n"
     ]
    }
   ],
   "source": [
    "import langchain\n",
    "print(langchain.__version__)"
   ]
  },
  {
   "cell_type": "code",
   "execution_count": 5,
   "id": "710fcf4b",
   "metadata": {},
   "outputs": [],
   "source": [
    "from langchain_core.tools import tool"
   ]
  },
  {
   "cell_type": "code",
   "execution_count": 6,
   "id": "427cb17b",
   "metadata": {},
   "outputs": [
    {
     "data": {
      "text/plain": [
       "'0.2.59'"
      ]
     },
     "execution_count": 6,
     "metadata": {},
     "output_type": "execute_result"
    }
   ],
   "source": [
    "import yfinance\n",
    "yfinance.__version__"
   ]
  },
  {
   "cell_type": "code",
   "execution_count": 7,
   "id": "b273f56b",
   "metadata": {},
   "outputs": [
    {
     "data": {
      "text/plain": [
       "'UCG.MI'"
      ]
     },
     "execution_count": 7,
     "metadata": {},
     "output_type": "execute_result"
    }
   ],
   "source": [
    "get_ticker.invoke(\"Unicredit\")"
   ]
  },
  {
   "cell_type": "code",
   "execution_count": 8,
   "id": "e2853942",
   "metadata": {},
   "outputs": [],
   "source": [
    "from langchain_core.messages import HumanMessage"
   ]
  },
  {
   "cell_type": "code",
   "execution_count": 9,
   "id": "15c4848a",
   "metadata": {},
   "outputs": [],
   "source": [
    "query = \"What are the financial of Apple?\""
   ]
  },
  {
   "cell_type": "code",
   "execution_count": 10,
   "id": "142a8302",
   "metadata": {},
   "outputs": [],
   "source": [
    "from langchain.chat_models import init_chat_model\n",
    "\n",
    "llm = init_chat_model(\"gpt-4.1-nano-2025-04-14\", model_provider=\"openai\", temperature=0)"
   ]
  },
  {
   "cell_type": "code",
   "execution_count": 11,
   "id": "c80932de",
   "metadata": {},
   "outputs": [],
   "source": [
    "tools = [get_ticker, get_stock_prices, get_financials, get_multiple_financials, get_institutional_holders,]"
   ]
  },
  {
   "cell_type": "code",
   "execution_count": 12,
   "id": "e03edc8e",
   "metadata": {},
   "outputs": [],
   "source": [
    "llm_with_tools = llm.bind_tools(tools)"
   ]
  },
  {
   "cell_type": "code",
   "execution_count": 13,
   "id": "b6c28415",
   "metadata": {},
   "outputs": [],
   "source": [
    "ai_msg = llm_with_tools.invoke(query)"
   ]
  },
  {
   "cell_type": "code",
   "execution_count": 14,
   "id": "2dccf83f",
   "metadata": {},
   "outputs": [],
   "source": [
    "messages = [query, ai_msg]"
   ]
  },
  {
   "cell_type": "code",
   "execution_count": 15,
   "id": "b05b9aaf",
   "metadata": {},
   "outputs": [
    {
     "name": "stdout",
     "output_type": "stream",
     "text": [
      "[{'name': 'get_ticker', 'args': {'company_name': 'Apple'}, 'id': 'call_CgonYAmP5yhoEKbxOF7DGF3J', 'type': 'tool_call'}]\n"
     ]
    }
   ],
   "source": [
    "print(ai_msg.tool_calls)"
   ]
  },
  {
   "cell_type": "code",
   "execution_count": 16,
   "id": "14628178",
   "metadata": {},
   "outputs": [
    {
     "data": {
      "text/plain": [
       "['What are the financial of Apple?',\n",
       " AIMessage(content='', additional_kwargs={'tool_calls': [{'id': 'call_CgonYAmP5yhoEKbxOF7DGF3J', 'function': {'arguments': '{\"company_name\":\"Apple\"}', 'name': 'get_ticker'}, 'type': 'function'}], 'refusal': None}, response_metadata={'token_usage': {'completion_tokens': 17, 'prompt_tokens': 418, 'total_tokens': 435, 'completion_tokens_details': {'accepted_prediction_tokens': 0, 'audio_tokens': 0, 'reasoning_tokens': 0, 'rejected_prediction_tokens': 0}, 'prompt_tokens_details': {'audio_tokens': 0, 'cached_tokens': 0}}, 'model_name': 'gpt-4.1-nano-2025-04-14', 'system_fingerprint': 'fp_eede8f0d45', 'id': 'chatcmpl-BVdnlFXytKU2Ex7OYuxmCCwUh4Gzu', 'finish_reason': 'tool_calls', 'logprobs': None}, id='run-cce3e2e2-038f-48c3-bb28-d3907dfa2c8e-0', tool_calls=[{'name': 'get_ticker', 'args': {'company_name': 'Apple'}, 'id': 'call_CgonYAmP5yhoEKbxOF7DGF3J', 'type': 'tool_call'}], usage_metadata={'input_tokens': 418, 'output_tokens': 17, 'total_tokens': 435, 'input_token_details': {'audio': 0, 'cache_read': 0}, 'output_token_details': {'audio': 0, 'reasoning': 0}}),\n",
       " ToolMessage(content='AAPL', name='get_ticker', tool_call_id='call_CgonYAmP5yhoEKbxOF7DGF3J')]"
      ]
     },
     "execution_count": 16,
     "metadata": {},
     "output_type": "execute_result"
    }
   ],
   "source": [
    "for tool_call in ai_msg.tool_calls:\n",
    "    selected_tool = {\"get_ticker\": get_ticker, \"get_financials\": get_financials,\n",
    "                     \"get_institutional_holders\": get_institutional_holders, \"get_multiple_financials\": get_multiple_financials,\n",
    "                     \"get_stock_prices\": get_stock_prices,\n",
    "                     }[tool_call[\"name\"].lower()]\n",
    "    tool_msg = selected_tool.invoke(tool_call)\n",
    "    messages.append(tool_msg)\n",
    "messages"
   ]
  },
  {
   "cell_type": "code",
   "execution_count": null,
   "id": "38b1ce89",
   "metadata": {},
   "outputs": [
    {
     "data": {
      "text/plain": [
       "AIMessage(content='I have retrieved the financial information for Apple. Would you like a detailed summary or specific financial metrics?', additional_kwargs={'refusal': None}, response_metadata={'token_usage': {'completion_tokens': 22, 'prompt_tokens': 800, 'total_tokens': 822, 'completion_tokens_details': {'accepted_prediction_tokens': 0, 'audio_tokens': 0, 'reasoning_tokens': 0, 'rejected_prediction_tokens': 0}, 'prompt_tokens_details': {'audio_tokens': 0, 'cached_tokens': 0}}, 'model_name': 'gpt-4.1-nano-2025-04-14', 'system_fingerprint': 'fp_eede8f0d45', 'id': 'chatcmpl-BQc2SaIapvuVGsAXr4SOhu1yIkwnZ', 'finish_reason': 'stop', 'logprobs': None}, id='run-767e0830-0f3c-4e0d-b3ce-1e25f44d40d6-0', usage_metadata={'input_tokens': 800, 'output_tokens': 22, 'total_tokens': 822, 'input_token_details': {'audio': 0, 'cache_read': 0}, 'output_token_details': {'audio': 0, 'reasoning': 0}})"
      ]
     },
     "execution_count": 17,
     "metadata": {},
     "output_type": "execute_result"
    }
   ],
   "source": [
    "llm_with_tools.invoke(messages)"
   ]
  },
  {
   "cell_type": "code",
   "execution_count": null,
   "id": "528cf8a3",
   "metadata": {},
   "outputs": [
    {
     "name": "stdout",
     "output_type": "stream",
     "text": [
      "content='Saved the information in ../data/aapl_financials.csv, this is a preview \\n|                                                     |   2024-09-30 00:00:00 |   2023-09-30 00:00:00 |   2022-09-30 00:00:00 |   2021-09-30 00:00:00 |   2020-09-30 00:00:00 |\\n|:----------------------------------------------------|----------------------:|----------------------:|----------------------:|----------------------:|----------------------:|\\n| TaxEffectOfUnusualItems                             |           0           |            0          |           0           |           0           |                   nan |\\n| TaxRateForCalcs                                     |           0.241       |            0.147      |           0.162       |           0.133       |                   nan |\\n| NormalizedEBITDA                                    |           1.34661e+11 |            1.2582e+11 |           1.30541e+11 |           1.23136e+11 |                   nan |\\n| NetIncomeFromContinuingOperationNetMinorityInterest |           9.3736e+10  |            9.6995e+10 |           9.9803e+10  |           9.468e+10   |                   nan |\\n| ReconciledDepreciation                              |           1.1445e+10  |            1.1519e+10 |           1.1104e+10  |           1.1284e+10  |                   nan |' name='get_financials' tool_call_id='call_JTM8kkbQmTBjRS8lYEu5Nn3Z'\n"
     ]
    }
   ],
   "source": [
    "print(messages[-1])"
   ]
  },
  {
   "cell_type": "code",
   "execution_count": null,
   "id": "abceb8fe",
   "metadata": {},
   "outputs": [],
   "source": [
    "messages.append(\"Give me Unicredit ticker\")"
   ]
  },
  {
   "cell_type": "code",
   "execution_count": 17,
   "id": "f62540dd",
   "metadata": {},
   "outputs": [],
   "source": [
    "ai_msg = llm_with_tools.invoke(messages)"
   ]
  },
  {
   "cell_type": "code",
   "execution_count": 18,
   "id": "2bf09dd1",
   "metadata": {},
   "outputs": [
    {
     "data": {
      "text/plain": [
       "[{'name': 'get_financials',\n",
       "  'args': {'ticker': 'AAPL'},\n",
       "  'id': 'call_YY6tRyACZQwHThksbkEToZ9j',\n",
       "  'type': 'tool_call'}]"
      ]
     },
     "execution_count": 18,
     "metadata": {},
     "output_type": "execute_result"
    }
   ],
   "source": [
    "ai_msg.tool_calls"
   ]
  },
  {
   "cell_type": "code",
   "execution_count": null,
   "id": "0b629a6b",
   "metadata": {},
   "outputs": [],
   "source": []
  }
 ],
 "metadata": {
  "kernelspec": {
   "display_name": ".venv",
   "language": "python",
   "name": "python3"
  },
  "language_info": {
   "codemirror_mode": {
    "name": "ipython",
    "version": 3
   },
   "file_extension": ".py",
   "mimetype": "text/x-python",
   "name": "python",
   "nbconvert_exporter": "python",
   "pygments_lexer": "ipython3",
   "version": "3.12.1"
  }
 },
 "nbformat": 4,
 "nbformat_minor": 5
}
