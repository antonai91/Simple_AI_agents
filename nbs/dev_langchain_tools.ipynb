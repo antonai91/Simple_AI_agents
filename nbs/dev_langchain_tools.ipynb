{
 "cells": [
  {
   "cell_type": "code",
   "execution_count": 1,
   "id": "e0261ec0",
   "metadata": {},
   "outputs": [],
   "source": [
    "import pandas as pd\n",
    "import requests\n",
    "import openai\n",
    "import os\n",
    "import sys\n",
    "import plotly.express as px\n",
    "import json\n",
    "from typing import List\n",
    "from pydantic import BaseModel, Field\n",
    "sys.path.append(\"../\")\n",
    "from dotenv import load_dotenv\n",
    "from finance_functions import *"
   ]
  },
  {
   "cell_type": "code",
   "execution_count": 2,
   "id": "77fe883f",
   "metadata": {},
   "outputs": [],
   "source": [
    "# Load the environment variables from .env file\n",
    "load_dotenv()\n",
    "openai.api_key = os.environ['OPENAI_API_KEY']"
   ]
  },
  {
   "cell_type": "code",
   "execution_count": 3,
   "id": "9891a6a0",
   "metadata": {},
   "outputs": [],
   "source": [
    "from langchain.prompts import ChatPromptTemplate\n",
    "from langchain_openai import ChatOpenAI\n",
    "from langchain.schema.output_parser import StrOutputParser"
   ]
  },
  {
   "cell_type": "code",
   "execution_count": 4,
   "id": "b481ebc3",
   "metadata": {},
   "outputs": [
    {
     "name": "stdout",
     "output_type": "stream",
     "text": [
      "0.3.24\n"
     ]
    }
   ],
   "source": [
    "import langchain\n",
    "print(langchain.__version__)"
   ]
  },
  {
   "cell_type": "code",
   "execution_count": 5,
   "id": "710fcf4b",
   "metadata": {},
   "outputs": [],
   "source": [
    "from langchain_core.tools import tool"
   ]
  },
  {
   "cell_type": "code",
   "execution_count": 6,
   "id": "b273f56b",
   "metadata": {},
   "outputs": [
    {
     "data": {
      "text/plain": [
       "'UCG.MI'"
      ]
     },
     "execution_count": 6,
     "metadata": {},
     "output_type": "execute_result"
    }
   ],
   "source": [
    "get_ticker.invoke(\"Unicredit\")"
   ]
  },
  {
   "cell_type": "code",
   "execution_count": 7,
   "id": "e2853942",
   "metadata": {},
   "outputs": [],
   "source": [
    "from langchain_core.messages import HumanMessage"
   ]
  },
  {
   "cell_type": "code",
   "execution_count": 17,
   "id": "15c4848a",
   "metadata": {},
   "outputs": [],
   "source": [
    "query = \"What are the financial of Apple?\"\n",
    "\n",
    "messages = [HumanMessage(query)]"
   ]
  },
  {
   "cell_type": "code",
   "execution_count": 18,
   "id": "142a8302",
   "metadata": {},
   "outputs": [],
   "source": [
    "from langchain.chat_models import init_chat_model\n",
    "\n",
    "llm = init_chat_model(\"gpt-4.1-nano-2025-04-14\", model_provider=\"openai\", temperature=0)"
   ]
  },
  {
   "cell_type": "code",
   "execution_count": 19,
   "id": "c80932de",
   "metadata": {},
   "outputs": [],
   "source": [
    "tools = [get_ticker, STOCK, get_stock_prices, get_financials, get_multiple_financials, get_institutional_holders,]"
   ]
  },
  {
   "cell_type": "code",
   "execution_count": 20,
   "id": "e03edc8e",
   "metadata": {},
   "outputs": [],
   "source": [
    "llm_with_tools = llm.bind_tools(tools)"
   ]
  },
  {
   "cell_type": "code",
   "execution_count": 21,
   "id": "b6c28415",
   "metadata": {},
   "outputs": [],
   "source": [
    "ai_msg = llm_with_tools.invoke(messages)"
   ]
  },
  {
   "cell_type": "code",
   "execution_count": 22,
   "id": "b05b9aaf",
   "metadata": {},
   "outputs": [
    {
     "name": "stdout",
     "output_type": "stream",
     "text": [
      "[{'name': 'get_financials', 'args': {'ticker': 'AAPL'}, 'id': 'call_ZTzkBrC0Hhr1Bj6oe3FRayGj', 'type': 'tool_call'}]\n"
     ]
    }
   ],
   "source": [
    "print(ai_msg.tool_calls)\n",
    "\n",
    "messages.append(ai_msg)"
   ]
  },
  {
   "cell_type": "code",
   "execution_count": 23,
   "id": "2bebbce1",
   "metadata": {},
   "outputs": [
    {
     "data": {
      "text/plain": [
       "[HumanMessage(content='What are the financial of Apple?', additional_kwargs={}, response_metadata={}),\n",
       " AIMessage(content='', additional_kwargs={'tool_calls': [{'id': 'call_ZTzkBrC0Hhr1Bj6oe3FRayGj', 'function': {'arguments': '{\"ticker\":\"AAPL\"}', 'name': 'get_financials'}, 'type': 'function'}], 'refusal': None}, response_metadata={'token_usage': {'completion_tokens': 18, 'prompt_tokens': 564, 'total_tokens': 582, 'completion_tokens_details': {'accepted_prediction_tokens': 0, 'audio_tokens': 0, 'reasoning_tokens': 0, 'rejected_prediction_tokens': 0}, 'prompt_tokens_details': {'audio_tokens': 0, 'cached_tokens': 0}}, 'model_name': 'gpt-4.1-nano-2025-04-14', 'system_fingerprint': 'fp_eede8f0d45', 'id': 'chatcmpl-BQZgFMyn51JOovXAHvGiXzCd1QY8N', 'finish_reason': 'tool_calls', 'logprobs': None}, id='run-100465af-028b-4fd2-9174-f5ce5abf1f97-0', tool_calls=[{'name': 'get_financials', 'args': {'ticker': 'AAPL'}, 'id': 'call_ZTzkBrC0Hhr1Bj6oe3FRayGj', 'type': 'tool_call'}], usage_metadata={'input_tokens': 564, 'output_tokens': 18, 'total_tokens': 582, 'input_token_details': {'audio': 0, 'cache_read': 0}, 'output_token_details': {'audio': 0, 'reasoning': 0}})]"
      ]
     },
     "execution_count": 23,
     "metadata": {},
     "output_type": "execute_result"
    }
   ],
   "source": [
    "messages"
   ]
  },
  {
   "cell_type": "code",
   "execution_count": 28,
   "id": "14628178",
   "metadata": {},
   "outputs": [
    {
     "data": {
      "text/plain": [
       "[HumanMessage(content='What are the financial of Apple?', additional_kwargs={}, response_metadata={}),\n",
       " AIMessage(content='', additional_kwargs={'tool_calls': [{'id': 'call_ZTzkBrC0Hhr1Bj6oe3FRayGj', 'function': {'arguments': '{\"ticker\":\"AAPL\"}', 'name': 'get_financials'}, 'type': 'function'}], 'refusal': None}, response_metadata={'token_usage': {'completion_tokens': 18, 'prompt_tokens': 564, 'total_tokens': 582, 'completion_tokens_details': {'accepted_prediction_tokens': 0, 'audio_tokens': 0, 'reasoning_tokens': 0, 'rejected_prediction_tokens': 0}, 'prompt_tokens_details': {'audio_tokens': 0, 'cached_tokens': 0}}, 'model_name': 'gpt-4.1-nano-2025-04-14', 'system_fingerprint': 'fp_eede8f0d45', 'id': 'chatcmpl-BQZgFMyn51JOovXAHvGiXzCd1QY8N', 'finish_reason': 'tool_calls', 'logprobs': None}, id='run-100465af-028b-4fd2-9174-f5ce5abf1f97-0', tool_calls=[{'name': 'get_financials', 'args': {'ticker': 'AAPL'}, 'id': 'call_ZTzkBrC0Hhr1Bj6oe3FRayGj', 'type': 'tool_call'}], usage_metadata={'input_tokens': 564, 'output_tokens': 18, 'total_tokens': 582, 'input_token_details': {'audio': 0, 'cache_read': 0}, 'output_token_details': {'audio': 0, 'reasoning': 0}}),\n",
       " ToolMessage(content='                                                        2024-09-30  \\\\\\nTaxEffectOfUnusualItems                                        0.0   \\nTaxRateForCalcs                                              0.241   \\nNormalizedEBITDA                                    134661000000.0   \\nNetIncomeFromContinuingOperationNetMinorityInte...   93736000000.0   \\nReconciledDepreciation                               11445000000.0   \\nReconciledCostOfRevenue                             210352000000.0   \\nEBITDA                                              134661000000.0   \\nEBIT                                                123216000000.0   \\nNetInterestIncome                                              NaN   \\nInterestExpense                                                NaN   \\nInterestIncome                                                 NaN   \\nNormalizedIncome                                     93736000000.0   \\nNetIncomeFromContinuingAndDiscontinuedOperation      93736000000.0   \\nTotalExpenses                                       267819000000.0   \\nTotalOperatingIncomeAsReported                      123216000000.0   \\nDilutedAverageShares                                 15408095000.0   \\nBasicAverageShares                                   15343783000.0   \\nDilutedEPS                                                    6.08   \\nBasicEPS                                                      6.11   \\nDilutedNIAvailtoComStockholders                      93736000000.0   \\nNetIncomeCommonStockholders                          93736000000.0   \\nNetIncome                                            93736000000.0   \\nNetIncomeIncludingNoncontrollingInterests            93736000000.0   \\nNetIncomeContinuousOperations                        93736000000.0   \\nTaxProvision                                         29749000000.0   \\nPretaxIncome                                        123485000000.0   \\nOtherIncomeExpense                                     269000000.0   \\nOtherNonOperatingIncomeExpenses                        269000000.0   \\nNetNonOperatingInterestIncomeExpense                           NaN   \\nInterestExpenseNonOperating                                    NaN   \\nInterestIncomeNonOperating                                     NaN   \\nOperatingIncome                                     123216000000.0   \\nOperatingExpense                                     57467000000.0   \\nResearchAndDevelopment                               31370000000.0   \\nSellingGeneralAndAdministration                      26097000000.0   \\nGrossProfit                                         180683000000.0   \\nCostOfRevenue                                       210352000000.0   \\nTotalRevenue                                        391035000000.0   \\nOperatingRevenue                                    391035000000.0   \\n\\n                                                        2023-09-30  \\\\\\nTaxEffectOfUnusualItems                                        0.0   \\nTaxRateForCalcs                                              0.147   \\nNormalizedEBITDA                                    125820000000.0   \\nNetIncomeFromContinuingOperationNetMinorityInte...   96995000000.0   \\nReconciledDepreciation                               11519000000.0   \\nReconciledCostOfRevenue                             214137000000.0   \\nEBITDA                                              125820000000.0   \\nEBIT                                                114301000000.0   \\nNetInterestIncome                                     -183000000.0   \\nInterestExpense                                       3933000000.0   \\nInterestIncome                                        3750000000.0   \\nNormalizedIncome                                     96995000000.0   \\nNetIncomeFromContinuingAndDiscontinuedOperation      96995000000.0   \\nTotalExpenses                                       268984000000.0   \\nTotalOperatingIncomeAsReported                      114301000000.0   \\nDilutedAverageShares                                 15812547000.0   \\nBasicAverageShares                                   15744231000.0   \\nDilutedEPS                                                    6.13   \\nBasicEPS                                                      6.16   \\nDilutedNIAvailtoComStockholders                      96995000000.0   \\nNetIncomeCommonStockholders                          96995000000.0   \\nNetIncome                                            96995000000.0   \\nNetIncomeIncludingNoncontrollingInterests            96995000000.0   \\nNetIncomeContinuousOperations                        96995000000.0   \\nTaxProvision                                         16741000000.0   \\nPretaxIncome                                        113736000000.0   \\nOtherIncomeExpense                                    -565000000.0   \\nOtherNonOperatingIncomeExpenses                       -565000000.0   \\nNetNonOperatingInterestIncomeExpense                  -183000000.0   \\nInterestExpenseNonOperating                           3933000000.0   \\nInterestIncomeNonOperating                            3750000000.0   \\nOperatingIncome                                     114301000000.0   \\nOperatingExpense                                     54847000000.0   \\nResearchAndDevelopment                               29915000000.0   \\nSellingGeneralAndAdministration                      24932000000.0   \\nGrossProfit                                         169148000000.0   \\nCostOfRevenue                                       214137000000.0   \\nTotalRevenue                                        383285000000.0   \\nOperatingRevenue                                    383285000000.0   \\n\\n                                                        2022-09-30  \\\\\\nTaxEffectOfUnusualItems                                        0.0   \\nTaxRateForCalcs                                              0.162   \\nNormalizedEBITDA                                    130541000000.0   \\nNetIncomeFromContinuingOperationNetMinorityInte...   99803000000.0   \\nReconciledDepreciation                               11104000000.0   \\nReconciledCostOfRevenue                             223546000000.0   \\nEBITDA                                              130541000000.0   \\nEBIT                                                119437000000.0   \\nNetInterestIncome                                     -106000000.0   \\nInterestExpense                                       2931000000.0   \\nInterestIncome                                        2825000000.0   \\nNormalizedIncome                                     99803000000.0   \\nNetIncomeFromContinuingAndDiscontinuedOperation      99803000000.0   \\nTotalExpenses                                       274891000000.0   \\nTotalOperatingIncomeAsReported                      119437000000.0   \\nDilutedAverageShares                                 16325819000.0   \\nBasicAverageShares                                   16215963000.0   \\nDilutedEPS                                                    6.11   \\nBasicEPS                                                      6.15   \\nDilutedNIAvailtoComStockholders                      99803000000.0   \\nNetIncomeCommonStockholders                          99803000000.0   \\nNetIncome                                            99803000000.0   \\nNetIncomeIncludingNoncontrollingInterests            99803000000.0   \\nNetIncomeContinuousOperations                        99803000000.0   \\nTaxProvision                                         19300000000.0   \\nPretaxIncome                                        119103000000.0   \\nOtherIncomeExpense                                    -334000000.0   \\nOtherNonOperatingIncomeExpenses                       -334000000.0   \\nNetNonOperatingInterestIncomeExpense                  -106000000.0   \\nInterestExpenseNonOperating                           2931000000.0   \\nInterestIncomeNonOperating                            2825000000.0   \\nOperatingIncome                                     119437000000.0   \\nOperatingExpense                                     51345000000.0   \\nResearchAndDevelopment                               26251000000.0   \\nSellingGeneralAndAdministration                      25094000000.0   \\nGrossProfit                                         170782000000.0   \\nCostOfRevenue                                       223546000000.0   \\nTotalRevenue                                        394328000000.0   \\nOperatingRevenue                                    394328000000.0   \\n\\n                                                        2021-09-30  \\\\\\nTaxEffectOfUnusualItems                                        0.0   \\nTaxRateForCalcs                                              0.133   \\nNormalizedEBITDA                                    123136000000.0   \\nNetIncomeFromContinuingOperationNetMinorityInte...   94680000000.0   \\nReconciledDepreciation                               11284000000.0   \\nReconciledCostOfRevenue                             212981000000.0   \\nEBITDA                                              123136000000.0   \\nEBIT                                                111852000000.0   \\nNetInterestIncome                                      198000000.0   \\nInterestExpense                                       2645000000.0   \\nInterestIncome                                        2843000000.0   \\nNormalizedIncome                                     94680000000.0   \\nNetIncomeFromContinuingAndDiscontinuedOperation      94680000000.0   \\nTotalExpenses                                       256868000000.0   \\nTotalOperatingIncomeAsReported                      108949000000.0   \\nDilutedAverageShares                                 16864919000.0   \\nBasicAverageShares                                   16701272000.0   \\nDilutedEPS                                                    5.61   \\nBasicEPS                                                      5.67   \\nDilutedNIAvailtoComStockholders                      94680000000.0   \\nNetIncomeCommonStockholders                          94680000000.0   \\nNetIncome                                            94680000000.0   \\nNetIncomeIncludingNoncontrollingInterests            94680000000.0   \\nNetIncomeContinuousOperations                        94680000000.0   \\nTaxProvision                                         14527000000.0   \\nPretaxIncome                                        109207000000.0   \\nOtherIncomeExpense                                      60000000.0   \\nOtherNonOperatingIncomeExpenses                         60000000.0   \\nNetNonOperatingInterestIncomeExpense                   198000000.0   \\nInterestExpenseNonOperating                           2645000000.0   \\nInterestIncomeNonOperating                            2843000000.0   \\nOperatingIncome                                     108949000000.0   \\nOperatingExpense                                     43887000000.0   \\nResearchAndDevelopment                               21914000000.0   \\nSellingGeneralAndAdministration                      21973000000.0   \\nGrossProfit                                         152836000000.0   \\nCostOfRevenue                                       212981000000.0   \\nTotalRevenue                                        365817000000.0   \\nOperatingRevenue                                    365817000000.0   \\n\\n                                                      2020-09-30  \\nTaxEffectOfUnusualItems                                      NaN  \\nTaxRateForCalcs                                              NaN  \\nNormalizedEBITDA                                             NaN  \\nNetIncomeFromContinuingOperationNetMinorityInte...           NaN  \\nReconciledDepreciation                                       NaN  \\nReconciledCostOfRevenue                                      NaN  \\nEBITDA                                                       NaN  \\nEBIT                                                         NaN  \\nNetInterestIncome                                    890000000.0  \\nInterestExpense                                     2873000000.0  \\nInterestIncome                                      3763000000.0  \\nNormalizedIncome                                             NaN  \\nNetIncomeFromContinuingAndDiscontinuedOperation              NaN  \\nTotalExpenses                                                NaN  \\nTotalOperatingIncomeAsReported                               NaN  \\nDilutedAverageShares                                         NaN  \\nBasicAverageShares                                           NaN  \\nDilutedEPS                                                   NaN  \\nBasicEPS                                                     NaN  \\nDilutedNIAvailtoComStockholders                              NaN  \\nNetIncomeCommonStockholders                                  NaN  \\nNetIncome                                                    NaN  \\nNetIncomeIncludingNoncontrollingInterests                    NaN  \\nNetIncomeContinuousOperations                                NaN  \\nTaxProvision                                                 NaN  \\nPretaxIncome                                                 NaN  \\nOtherIncomeExpense                                           NaN  \\nOtherNonOperatingIncomeExpenses                              NaN  \\nNetNonOperatingInterestIncomeExpense                 890000000.0  \\nInterestExpenseNonOperating                         2873000000.0  \\nInterestIncomeNonOperating                          3763000000.0  \\nOperatingIncome                                              NaN  \\nOperatingExpense                                             NaN  \\nResearchAndDevelopment                                       NaN  \\nSellingGeneralAndAdministration                              NaN  \\nGrossProfit                                                  NaN  \\nCostOfRevenue                                                NaN  \\nTotalRevenue                                                 NaN  \\nOperatingRevenue                                             NaN  ', name='get_financials', tool_call_id='call_ZTzkBrC0Hhr1Bj6oe3FRayGj'),\n",
       " ToolMessage(content='                                                        2024-09-30  \\\\\\nTaxEffectOfUnusualItems                                        0.0   \\nTaxRateForCalcs                                              0.241   \\nNormalizedEBITDA                                    134661000000.0   \\nNetIncomeFromContinuingOperationNetMinorityInte...   93736000000.0   \\nReconciledDepreciation                               11445000000.0   \\nReconciledCostOfRevenue                             210352000000.0   \\nEBITDA                                              134661000000.0   \\nEBIT                                                123216000000.0   \\nNetInterestIncome                                              NaN   \\nInterestExpense                                                NaN   \\nInterestIncome                                                 NaN   \\nNormalizedIncome                                     93736000000.0   \\nNetIncomeFromContinuingAndDiscontinuedOperation      93736000000.0   \\nTotalExpenses                                       267819000000.0   \\nTotalOperatingIncomeAsReported                      123216000000.0   \\nDilutedAverageShares                                 15408095000.0   \\nBasicAverageShares                                   15343783000.0   \\nDilutedEPS                                                    6.08   \\nBasicEPS                                                      6.11   \\nDilutedNIAvailtoComStockholders                      93736000000.0   \\nNetIncomeCommonStockholders                          93736000000.0   \\nNetIncome                                            93736000000.0   \\nNetIncomeIncludingNoncontrollingInterests            93736000000.0   \\nNetIncomeContinuousOperations                        93736000000.0   \\nTaxProvision                                         29749000000.0   \\nPretaxIncome                                        123485000000.0   \\nOtherIncomeExpense                                     269000000.0   \\nOtherNonOperatingIncomeExpenses                        269000000.0   \\nNetNonOperatingInterestIncomeExpense                           NaN   \\nInterestExpenseNonOperating                                    NaN   \\nInterestIncomeNonOperating                                     NaN   \\nOperatingIncome                                     123216000000.0   \\nOperatingExpense                                     57467000000.0   \\nResearchAndDevelopment                               31370000000.0   \\nSellingGeneralAndAdministration                      26097000000.0   \\nGrossProfit                                         180683000000.0   \\nCostOfRevenue                                       210352000000.0   \\nTotalRevenue                                        391035000000.0   \\nOperatingRevenue                                    391035000000.0   \\n\\n                                                        2023-09-30  \\\\\\nTaxEffectOfUnusualItems                                        0.0   \\nTaxRateForCalcs                                              0.147   \\nNormalizedEBITDA                                    125820000000.0   \\nNetIncomeFromContinuingOperationNetMinorityInte...   96995000000.0   \\nReconciledDepreciation                               11519000000.0   \\nReconciledCostOfRevenue                             214137000000.0   \\nEBITDA                                              125820000000.0   \\nEBIT                                                114301000000.0   \\nNetInterestIncome                                     -183000000.0   \\nInterestExpense                                       3933000000.0   \\nInterestIncome                                        3750000000.0   \\nNormalizedIncome                                     96995000000.0   \\nNetIncomeFromContinuingAndDiscontinuedOperation      96995000000.0   \\nTotalExpenses                                       268984000000.0   \\nTotalOperatingIncomeAsReported                      114301000000.0   \\nDilutedAverageShares                                 15812547000.0   \\nBasicAverageShares                                   15744231000.0   \\nDilutedEPS                                                    6.13   \\nBasicEPS                                                      6.16   \\nDilutedNIAvailtoComStockholders                      96995000000.0   \\nNetIncomeCommonStockholders                          96995000000.0   \\nNetIncome                                            96995000000.0   \\nNetIncomeIncludingNoncontrollingInterests            96995000000.0   \\nNetIncomeContinuousOperations                        96995000000.0   \\nTaxProvision                                         16741000000.0   \\nPretaxIncome                                        113736000000.0   \\nOtherIncomeExpense                                    -565000000.0   \\nOtherNonOperatingIncomeExpenses                       -565000000.0   \\nNetNonOperatingInterestIncomeExpense                  -183000000.0   \\nInterestExpenseNonOperating                           3933000000.0   \\nInterestIncomeNonOperating                            3750000000.0   \\nOperatingIncome                                     114301000000.0   \\nOperatingExpense                                     54847000000.0   \\nResearchAndDevelopment                               29915000000.0   \\nSellingGeneralAndAdministration                      24932000000.0   \\nGrossProfit                                         169148000000.0   \\nCostOfRevenue                                       214137000000.0   \\nTotalRevenue                                        383285000000.0   \\nOperatingRevenue                                    383285000000.0   \\n\\n                                                        2022-09-30  \\\\\\nTaxEffectOfUnusualItems                                        0.0   \\nTaxRateForCalcs                                              0.162   \\nNormalizedEBITDA                                    130541000000.0   \\nNetIncomeFromContinuingOperationNetMinorityInte...   99803000000.0   \\nReconciledDepreciation                               11104000000.0   \\nReconciledCostOfRevenue                             223546000000.0   \\nEBITDA                                              130541000000.0   \\nEBIT                                                119437000000.0   \\nNetInterestIncome                                     -106000000.0   \\nInterestExpense                                       2931000000.0   \\nInterestIncome                                        2825000000.0   \\nNormalizedIncome                                     99803000000.0   \\nNetIncomeFromContinuingAndDiscontinuedOperation      99803000000.0   \\nTotalExpenses                                       274891000000.0   \\nTotalOperatingIncomeAsReported                      119437000000.0   \\nDilutedAverageShares                                 16325819000.0   \\nBasicAverageShares                                   16215963000.0   \\nDilutedEPS                                                    6.11   \\nBasicEPS                                                      6.15   \\nDilutedNIAvailtoComStockholders                      99803000000.0   \\nNetIncomeCommonStockholders                          99803000000.0   \\nNetIncome                                            99803000000.0   \\nNetIncomeIncludingNoncontrollingInterests            99803000000.0   \\nNetIncomeContinuousOperations                        99803000000.0   \\nTaxProvision                                         19300000000.0   \\nPretaxIncome                                        119103000000.0   \\nOtherIncomeExpense                                    -334000000.0   \\nOtherNonOperatingIncomeExpenses                       -334000000.0   \\nNetNonOperatingInterestIncomeExpense                  -106000000.0   \\nInterestExpenseNonOperating                           2931000000.0   \\nInterestIncomeNonOperating                            2825000000.0   \\nOperatingIncome                                     119437000000.0   \\nOperatingExpense                                     51345000000.0   \\nResearchAndDevelopment                               26251000000.0   \\nSellingGeneralAndAdministration                      25094000000.0   \\nGrossProfit                                         170782000000.0   \\nCostOfRevenue                                       223546000000.0   \\nTotalRevenue                                        394328000000.0   \\nOperatingRevenue                                    394328000000.0   \\n\\n                                                        2021-09-30  \\\\\\nTaxEffectOfUnusualItems                                        0.0   \\nTaxRateForCalcs                                              0.133   \\nNormalizedEBITDA                                    123136000000.0   \\nNetIncomeFromContinuingOperationNetMinorityInte...   94680000000.0   \\nReconciledDepreciation                               11284000000.0   \\nReconciledCostOfRevenue                             212981000000.0   \\nEBITDA                                              123136000000.0   \\nEBIT                                                111852000000.0   \\nNetInterestIncome                                      198000000.0   \\nInterestExpense                                       2645000000.0   \\nInterestIncome                                        2843000000.0   \\nNormalizedIncome                                     94680000000.0   \\nNetIncomeFromContinuingAndDiscontinuedOperation      94680000000.0   \\nTotalExpenses                                       256868000000.0   \\nTotalOperatingIncomeAsReported                      108949000000.0   \\nDilutedAverageShares                                 16864919000.0   \\nBasicAverageShares                                   16701272000.0   \\nDilutedEPS                                                    5.61   \\nBasicEPS                                                      5.67   \\nDilutedNIAvailtoComStockholders                      94680000000.0   \\nNetIncomeCommonStockholders                          94680000000.0   \\nNetIncome                                            94680000000.0   \\nNetIncomeIncludingNoncontrollingInterests            94680000000.0   \\nNetIncomeContinuousOperations                        94680000000.0   \\nTaxProvision                                         14527000000.0   \\nPretaxIncome                                        109207000000.0   \\nOtherIncomeExpense                                      60000000.0   \\nOtherNonOperatingIncomeExpenses                         60000000.0   \\nNetNonOperatingInterestIncomeExpense                   198000000.0   \\nInterestExpenseNonOperating                           2645000000.0   \\nInterestIncomeNonOperating                            2843000000.0   \\nOperatingIncome                                     108949000000.0   \\nOperatingExpense                                     43887000000.0   \\nResearchAndDevelopment                               21914000000.0   \\nSellingGeneralAndAdministration                      21973000000.0   \\nGrossProfit                                         152836000000.0   \\nCostOfRevenue                                       212981000000.0   \\nTotalRevenue                                        365817000000.0   \\nOperatingRevenue                                    365817000000.0   \\n\\n                                                      2020-09-30  \\nTaxEffectOfUnusualItems                                      NaN  \\nTaxRateForCalcs                                              NaN  \\nNormalizedEBITDA                                             NaN  \\nNetIncomeFromContinuingOperationNetMinorityInte...           NaN  \\nReconciledDepreciation                                       NaN  \\nReconciledCostOfRevenue                                      NaN  \\nEBITDA                                                       NaN  \\nEBIT                                                         NaN  \\nNetInterestIncome                                    890000000.0  \\nInterestExpense                                     2873000000.0  \\nInterestIncome                                      3763000000.0  \\nNormalizedIncome                                             NaN  \\nNetIncomeFromContinuingAndDiscontinuedOperation              NaN  \\nTotalExpenses                                                NaN  \\nTotalOperatingIncomeAsReported                               NaN  \\nDilutedAverageShares                                         NaN  \\nBasicAverageShares                                           NaN  \\nDilutedEPS                                                   NaN  \\nBasicEPS                                                     NaN  \\nDilutedNIAvailtoComStockholders                              NaN  \\nNetIncomeCommonStockholders                                  NaN  \\nNetIncome                                                    NaN  \\nNetIncomeIncludingNoncontrollingInterests                    NaN  \\nNetIncomeContinuousOperations                                NaN  \\nTaxProvision                                                 NaN  \\nPretaxIncome                                                 NaN  \\nOtherIncomeExpense                                           NaN  \\nOtherNonOperatingIncomeExpenses                              NaN  \\nNetNonOperatingInterestIncomeExpense                 890000000.0  \\nInterestExpenseNonOperating                         2873000000.0  \\nInterestIncomeNonOperating                          3763000000.0  \\nOperatingIncome                                              NaN  \\nOperatingExpense                                             NaN  \\nResearchAndDevelopment                                       NaN  \\nSellingGeneralAndAdministration                              NaN  \\nGrossProfit                                                  NaN  \\nCostOfRevenue                                                NaN  \\nTotalRevenue                                                 NaN  \\nOperatingRevenue                                             NaN  ', name='get_financials', tool_call_id='call_ZTzkBrC0Hhr1Bj6oe3FRayGj')]"
      ]
     },
     "execution_count": 28,
     "metadata": {},
     "output_type": "execute_result"
    }
   ],
   "source": [
    "for tool_call in ai_msg.tool_calls:\n",
    "    selected_tool = {\"get_ticker\": get_ticker, \"get_financials\": get_financials, \"STOCK\": STOCK, \n",
    "                     \"get_institutional_holders\": get_institutional_holders, \"get_multiple_financials\": get_multiple_financials,\n",
    "                     \"get_stock_prices\": get_stock_prices,\n",
    "                     }[tool_call[\"name\"].lower()]\n",
    "    tool_msg = selected_tool.invoke(tool_call)\n",
    "    messages.append(tool_msg)\n",
    "\n",
    "messages"
   ]
  },
  {
   "cell_type": "code",
   "execution_count": 29,
   "id": "38b1ce89",
   "metadata": {},
   "outputs": [
    {
     "data": {
      "text/plain": [
       "ToolMessage(content='                                                        2024-09-30  \\\\\\nTaxEffectOfUnusualItems                                        0.0   \\nTaxRateForCalcs                                              0.241   \\nNormalizedEBITDA                                    134661000000.0   \\nNetIncomeFromContinuingOperationNetMinorityInte...   93736000000.0   \\nReconciledDepreciation                               11445000000.0   \\nReconciledCostOfRevenue                             210352000000.0   \\nEBITDA                                              134661000000.0   \\nEBIT                                                123216000000.0   \\nNetInterestIncome                                              NaN   \\nInterestExpense                                                NaN   \\nInterestIncome                                                 NaN   \\nNormalizedIncome                                     93736000000.0   \\nNetIncomeFromContinuingAndDiscontinuedOperation      93736000000.0   \\nTotalExpenses                                       267819000000.0   \\nTotalOperatingIncomeAsReported                      123216000000.0   \\nDilutedAverageShares                                 15408095000.0   \\nBasicAverageShares                                   15343783000.0   \\nDilutedEPS                                                    6.08   \\nBasicEPS                                                      6.11   \\nDilutedNIAvailtoComStockholders                      93736000000.0   \\nNetIncomeCommonStockholders                          93736000000.0   \\nNetIncome                                            93736000000.0   \\nNetIncomeIncludingNoncontrollingInterests            93736000000.0   \\nNetIncomeContinuousOperations                        93736000000.0   \\nTaxProvision                                         29749000000.0   \\nPretaxIncome                                        123485000000.0   \\nOtherIncomeExpense                                     269000000.0   \\nOtherNonOperatingIncomeExpenses                        269000000.0   \\nNetNonOperatingInterestIncomeExpense                           NaN   \\nInterestExpenseNonOperating                                    NaN   \\nInterestIncomeNonOperating                                     NaN   \\nOperatingIncome                                     123216000000.0   \\nOperatingExpense                                     57467000000.0   \\nResearchAndDevelopment                               31370000000.0   \\nSellingGeneralAndAdministration                      26097000000.0   \\nGrossProfit                                         180683000000.0   \\nCostOfRevenue                                       210352000000.0   \\nTotalRevenue                                        391035000000.0   \\nOperatingRevenue                                    391035000000.0   \\n\\n                                                        2023-09-30  \\\\\\nTaxEffectOfUnusualItems                                        0.0   \\nTaxRateForCalcs                                              0.147   \\nNormalizedEBITDA                                    125820000000.0   \\nNetIncomeFromContinuingOperationNetMinorityInte...   96995000000.0   \\nReconciledDepreciation                               11519000000.0   \\nReconciledCostOfRevenue                             214137000000.0   \\nEBITDA                                              125820000000.0   \\nEBIT                                                114301000000.0   \\nNetInterestIncome                                     -183000000.0   \\nInterestExpense                                       3933000000.0   \\nInterestIncome                                        3750000000.0   \\nNormalizedIncome                                     96995000000.0   \\nNetIncomeFromContinuingAndDiscontinuedOperation      96995000000.0   \\nTotalExpenses                                       268984000000.0   \\nTotalOperatingIncomeAsReported                      114301000000.0   \\nDilutedAverageShares                                 15812547000.0   \\nBasicAverageShares                                   15744231000.0   \\nDilutedEPS                                                    6.13   \\nBasicEPS                                                      6.16   \\nDilutedNIAvailtoComStockholders                      96995000000.0   \\nNetIncomeCommonStockholders                          96995000000.0   \\nNetIncome                                            96995000000.0   \\nNetIncomeIncludingNoncontrollingInterests            96995000000.0   \\nNetIncomeContinuousOperations                        96995000000.0   \\nTaxProvision                                         16741000000.0   \\nPretaxIncome                                        113736000000.0   \\nOtherIncomeExpense                                    -565000000.0   \\nOtherNonOperatingIncomeExpenses                       -565000000.0   \\nNetNonOperatingInterestIncomeExpense                  -183000000.0   \\nInterestExpenseNonOperating                           3933000000.0   \\nInterestIncomeNonOperating                            3750000000.0   \\nOperatingIncome                                     114301000000.0   \\nOperatingExpense                                     54847000000.0   \\nResearchAndDevelopment                               29915000000.0   \\nSellingGeneralAndAdministration                      24932000000.0   \\nGrossProfit                                         169148000000.0   \\nCostOfRevenue                                       214137000000.0   \\nTotalRevenue                                        383285000000.0   \\nOperatingRevenue                                    383285000000.0   \\n\\n                                                        2022-09-30  \\\\\\nTaxEffectOfUnusualItems                                        0.0   \\nTaxRateForCalcs                                              0.162   \\nNormalizedEBITDA                                    130541000000.0   \\nNetIncomeFromContinuingOperationNetMinorityInte...   99803000000.0   \\nReconciledDepreciation                               11104000000.0   \\nReconciledCostOfRevenue                             223546000000.0   \\nEBITDA                                              130541000000.0   \\nEBIT                                                119437000000.0   \\nNetInterestIncome                                     -106000000.0   \\nInterestExpense                                       2931000000.0   \\nInterestIncome                                        2825000000.0   \\nNormalizedIncome                                     99803000000.0   \\nNetIncomeFromContinuingAndDiscontinuedOperation      99803000000.0   \\nTotalExpenses                                       274891000000.0   \\nTotalOperatingIncomeAsReported                      119437000000.0   \\nDilutedAverageShares                                 16325819000.0   \\nBasicAverageShares                                   16215963000.0   \\nDilutedEPS                                                    6.11   \\nBasicEPS                                                      6.15   \\nDilutedNIAvailtoComStockholders                      99803000000.0   \\nNetIncomeCommonStockholders                          99803000000.0   \\nNetIncome                                            99803000000.0   \\nNetIncomeIncludingNoncontrollingInterests            99803000000.0   \\nNetIncomeContinuousOperations                        99803000000.0   \\nTaxProvision                                         19300000000.0   \\nPretaxIncome                                        119103000000.0   \\nOtherIncomeExpense                                    -334000000.0   \\nOtherNonOperatingIncomeExpenses                       -334000000.0   \\nNetNonOperatingInterestIncomeExpense                  -106000000.0   \\nInterestExpenseNonOperating                           2931000000.0   \\nInterestIncomeNonOperating                            2825000000.0   \\nOperatingIncome                                     119437000000.0   \\nOperatingExpense                                     51345000000.0   \\nResearchAndDevelopment                               26251000000.0   \\nSellingGeneralAndAdministration                      25094000000.0   \\nGrossProfit                                         170782000000.0   \\nCostOfRevenue                                       223546000000.0   \\nTotalRevenue                                        394328000000.0   \\nOperatingRevenue                                    394328000000.0   \\n\\n                                                        2021-09-30  \\\\\\nTaxEffectOfUnusualItems                                        0.0   \\nTaxRateForCalcs                                              0.133   \\nNormalizedEBITDA                                    123136000000.0   \\nNetIncomeFromContinuingOperationNetMinorityInte...   94680000000.0   \\nReconciledDepreciation                               11284000000.0   \\nReconciledCostOfRevenue                             212981000000.0   \\nEBITDA                                              123136000000.0   \\nEBIT                                                111852000000.0   \\nNetInterestIncome                                      198000000.0   \\nInterestExpense                                       2645000000.0   \\nInterestIncome                                        2843000000.0   \\nNormalizedIncome                                     94680000000.0   \\nNetIncomeFromContinuingAndDiscontinuedOperation      94680000000.0   \\nTotalExpenses                                       256868000000.0   \\nTotalOperatingIncomeAsReported                      108949000000.0   \\nDilutedAverageShares                                 16864919000.0   \\nBasicAverageShares                                   16701272000.0   \\nDilutedEPS                                                    5.61   \\nBasicEPS                                                      5.67   \\nDilutedNIAvailtoComStockholders                      94680000000.0   \\nNetIncomeCommonStockholders                          94680000000.0   \\nNetIncome                                            94680000000.0   \\nNetIncomeIncludingNoncontrollingInterests            94680000000.0   \\nNetIncomeContinuousOperations                        94680000000.0   \\nTaxProvision                                         14527000000.0   \\nPretaxIncome                                        109207000000.0   \\nOtherIncomeExpense                                      60000000.0   \\nOtherNonOperatingIncomeExpenses                         60000000.0   \\nNetNonOperatingInterestIncomeExpense                   198000000.0   \\nInterestExpenseNonOperating                           2645000000.0   \\nInterestIncomeNonOperating                            2843000000.0   \\nOperatingIncome                                     108949000000.0   \\nOperatingExpense                                     43887000000.0   \\nResearchAndDevelopment                               21914000000.0   \\nSellingGeneralAndAdministration                      21973000000.0   \\nGrossProfit                                         152836000000.0   \\nCostOfRevenue                                       212981000000.0   \\nTotalRevenue                                        365817000000.0   \\nOperatingRevenue                                    365817000000.0   \\n\\n                                                      2020-09-30  \\nTaxEffectOfUnusualItems                                      NaN  \\nTaxRateForCalcs                                              NaN  \\nNormalizedEBITDA                                             NaN  \\nNetIncomeFromContinuingOperationNetMinorityInte...           NaN  \\nReconciledDepreciation                                       NaN  \\nReconciledCostOfRevenue                                      NaN  \\nEBITDA                                                       NaN  \\nEBIT                                                         NaN  \\nNetInterestIncome                                    890000000.0  \\nInterestExpense                                     2873000000.0  \\nInterestIncome                                      3763000000.0  \\nNormalizedIncome                                             NaN  \\nNetIncomeFromContinuingAndDiscontinuedOperation              NaN  \\nTotalExpenses                                                NaN  \\nTotalOperatingIncomeAsReported                               NaN  \\nDilutedAverageShares                                         NaN  \\nBasicAverageShares                                           NaN  \\nDilutedEPS                                                   NaN  \\nBasicEPS                                                     NaN  \\nDilutedNIAvailtoComStockholders                              NaN  \\nNetIncomeCommonStockholders                                  NaN  \\nNetIncome                                                    NaN  \\nNetIncomeIncludingNoncontrollingInterests                    NaN  \\nNetIncomeContinuousOperations                                NaN  \\nTaxProvision                                                 NaN  \\nPretaxIncome                                                 NaN  \\nOtherIncomeExpense                                           NaN  \\nOtherNonOperatingIncomeExpenses                              NaN  \\nNetNonOperatingInterestIncomeExpense                 890000000.0  \\nInterestExpenseNonOperating                         2873000000.0  \\nInterestIncomeNonOperating                          3763000000.0  \\nOperatingIncome                                              NaN  \\nOperatingExpense                                             NaN  \\nResearchAndDevelopment                                       NaN  \\nSellingGeneralAndAdministration                              NaN  \\nGrossProfit                                                  NaN  \\nCostOfRevenue                                                NaN  \\nTotalRevenue                                                 NaN  \\nOperatingRevenue                                             NaN  ', name='get_financials', tool_call_id='call_ZTzkBrC0Hhr1Bj6oe3FRayGj')"
      ]
     },
     "execution_count": 29,
     "metadata": {},
     "output_type": "execute_result"
    }
   ],
   "source": [
    "tool_msg"
   ]
  },
  {
   "cell_type": "code",
   "execution_count": null,
   "id": "528cf8a3",
   "metadata": {},
   "outputs": [],
   "source": []
  }
 ],
 "metadata": {
  "kernelspec": {
   "display_name": ".venv",
   "language": "python",
   "name": "python3"
  },
  "language_info": {
   "codemirror_mode": {
    "name": "ipython",
    "version": 3
   },
   "file_extension": ".py",
   "mimetype": "text/x-python",
   "name": "python",
   "nbconvert_exporter": "python",
   "pygments_lexer": "ipython3",
   "version": "3.12.1"
  }
 },
 "nbformat": 4,
 "nbformat_minor": 5
}
